{
 "cells": [
  {
   "cell_type": "code",
   "execution_count": 2,
   "metadata": {},
   "outputs": [],
   "source": [
    "from transformers import T5Tokenizer, AutoModelForCausalLM\n",
    "import torch"
   ]
  },
  {
   "cell_type": "code",
   "execution_count": 3,
   "metadata": {},
   "outputs": [
    {
     "data": {
      "application/vnd.jupyter.widget-view+json": {
       "model_id": "89be4ec2460441799367540586996be8",
       "version_major": 2,
       "version_minor": 0
      },
      "text/plain": "Downloading:   0%|          | 0.00/806k [00:00<?, ?B/s]"
     },
     "metadata": {},
     "output_type": "display_data"
    },
    {
     "data": {
      "application/vnd.jupyter.widget-view+json": {
       "model_id": "d78d4e3bbf4c46099fa65115c1955d98",
       "version_major": 2,
       "version_minor": 0
      },
      "text/plain": "Downloading:   0%|          | 0.00/153 [00:00<?, ?B/s]"
     },
     "metadata": {},
     "output_type": "display_data"
    },
    {
     "data": {
      "application/vnd.jupyter.widget-view+json": {
       "model_id": "12921b8a3a7347f2b9bae5914410111a",
       "version_major": 2,
       "version_minor": 0
      },
      "text/plain": "Downloading:   0%|          | 0.00/225 [00:00<?, ?B/s]"
     },
     "metadata": {},
     "output_type": "display_data"
    },
    {
     "data": {
      "application/vnd.jupyter.widget-view+json": {
       "model_id": "7c4b31c944c740bbbf7d9f1c943b2bcf",
       "version_major": 2,
       "version_minor": 0
      },
      "text/plain": "Downloading:   0%|          | 0.00/654 [00:00<?, ?B/s]"
     },
     "metadata": {},
     "output_type": "display_data"
    },
    {
     "data": {
      "application/vnd.jupyter.widget-view+json": {
       "model_id": "02e5ae4f0ce14a0493a30214eebfeb74",
       "version_major": 2,
       "version_minor": 0
      },
      "text/plain": "Downloading:   0%|          | 0.00/1.37G [00:00<?, ?B/s]"
     },
     "metadata": {},
     "output_type": "display_data"
    }
   ],
   "source": [
    "tokenizer = T5Tokenizer.from_pretrained(\"rinna/japanese-gpt2-medium\")\n",
    "model = AutoModelForCausalLM.from_pretrained(\"rinna/japanese-gpt2-medium\")"
   ]
  },
  {
   "cell_type": "code",
   "execution_count": 10,
   "metadata": {},
   "outputs": [
    {
     "name": "stderr",
     "output_type": "stream",
     "text": [
      "Setting `pad_token_id` to `eos_token_id`:2 for open-end generation.\n"
     ]
    },
    {
     "name": "stdout",
     "output_type": "stream",
     "text": [
      "友達を紹介してくれませんか</s> _ 婚活サイトで結婚相手を探そう! 婚\n"
     ]
    }
   ],
   "source": [
    "input_text = \"友達を紹介してくれませんか\"\n",
    "input_ = tokenizer.encode(input_text, return_tensors=\"pt\")\n",
    "output = model.generate(input_)\n",
    "decoded = tokenizer.decode(output.squeeze())\n",
    "print(decoded)"
   ]
  },
  {
   "cell_type": "code",
   "execution_count": null,
   "metadata": {},
   "outputs": [],
   "source": []
  }
 ],
 "metadata": {
  "kernelspec": {
   "display_name": "Python 3.8.5 64-bit ('anaconda3-2020.11': pyenv)",
   "name": "python385jvsc74a57bd01296756ee0a18b488ad28abccefa215a9c0062f820bf387400b224181620c567"
  },
  "language_info": {
   "codemirror_mode": {
    "name": "ipython",
    "version": 3
   },
   "file_extension": ".py",
   "mimetype": "text/x-python",
   "name": "python",
   "nbconvert_exporter": "python",
   "pygments_lexer": "ipython3",
   "version": "3.8.5"
  },
  "orig_nbformat": 2
 },
 "nbformat": 4,
 "nbformat_minor": 2
}